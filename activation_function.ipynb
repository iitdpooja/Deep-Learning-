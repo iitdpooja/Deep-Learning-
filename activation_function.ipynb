{
  "nbformat": 4,
  "nbformat_minor": 0,
  "metadata": {
    "colab": {
      "name": "Untitled0.ipynb",
      "provenance": [],
      "collapsed_sections": [],
      "authorship_tag": "ABX9TyOEtdLD/8SMk2dbDqSlcUE/",
      "include_colab_link": true
    },
    "kernelspec": {
      "name": "python3",
      "display_name": "Python 3"
    },
    "language_info": {
      "name": "python"
    },
    "accelerator": "GPU"
  },
  "cells": [
    {
      "cell_type": "markdown",
      "metadata": {
        "id": "view-in-github",
        "colab_type": "text"
      },
      "source": [
        "<a href=\"https://colab.research.google.com/github/iitdpooja/Deep-Learning-/blob/main/activation_function.ipynb\" target=\"_parent\"><img src=\"https://colab.research.google.com/assets/colab-badge.svg\" alt=\"Open In Colab\"/></a>"
      ]
    },
    {
      "cell_type": "code",
      "metadata": {
        "id": "5aUk1SilUWEB"
      },
      "source": [
        "pip install -U d2l"
      ],
      "execution_count": null,
      "outputs": []
    },
    {
      "cell_type": "code",
      "metadata": {
        "id": "1rOESYr0UXmg"
      },
      "source": [
        "pip install mxnet"
      ],
      "execution_count": null,
      "outputs": []
    },
    {
      "cell_type": "code",
      "metadata": {
        "id": "UFuKsUkUUYUX"
      },
      "source": [
        "%matplotlib inline\n",
        "from mxnet import autograd, np, npx\n",
        "from d2l import mxnet as d2l\n",
        "npx.set_np()\n",
        "x = np.arange(-8.0, 8.0, 0.1)\n",
        "x.attach_grad()\n",
        "with autograd.record():\n",
        "  y = npx.relu(x)\n",
        "d2l.plot(x, y, 'x', 'relu(x)', figsize=(5, 2.5))\n",
        "y.backward()\n",
        "d2l.plot(x, x.grad, 'x', 'grad of relu', figsize=(5, 2.5))\n",
        "with autograd.record():\n",
        "  y = npx.sigmoid(x)\n",
        "d2l.plot(x, y, 'x', 'sigmoid(x)', figsize=(5, 2.5))\n",
        "y.backward()\n",
        "d2l.plot(x, x.grad, 'x', 'grad of sigmoid', figsize=(5, 2.5))\n",
        "with autograd.record():\n",
        "  y = np.tanh(x)\n",
        "d2l.plot(x, y, 'x', 'tanh(x)', figsize=(5, 2.5))\n",
        "y.backward()\n",
        "d2l.plot(x, x.grad, 'x', 'grad of tanh', figsize=(5, 2.5))\n",
        "\n",
        "\n",
        "\n",
        "\n"
      ],
      "execution_count": null,
      "outputs": []
    }
  ]
}