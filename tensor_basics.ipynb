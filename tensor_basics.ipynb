{
  "nbformat": 4,
  "nbformat_minor": 0,
  "metadata": {
    "colab": {
      "name": "tensor_basics.ipynb",
      "provenance": [],
      "collapsed_sections": [],
      "include_colab_link": true
    },
    "kernelspec": {
      "name": "python3",
      "display_name": "Python 3"
    },
    "language_info": {
      "name": "python"
    }
  },
  "cells": [
    {
      "cell_type": "markdown",
      "metadata": {
        "id": "view-in-github",
        "colab_type": "text"
      },
      "source": [
        "<a href=\"https://colab.research.google.com/github/iitdpooja/Deep-Learning-/blob/main/tensor_basics.ipynb\" target=\"_parent\"><img src=\"https://colab.research.google.com/assets/colab-badge.svg\" alt=\"Open In Colab\"/></a>"
      ]
    },
    {
      "cell_type": "code",
      "execution_count": 1,
      "metadata": {
        "colab": {
          "base_uri": "https://localhost:8080/"
        },
        "id": "ziO42eTgk95C",
        "outputId": "02c26202-5db5-4734-d1aa-3b7e69c12a7e"
      },
      "outputs": [
        {
          "output_type": "stream",
          "name": "stdout",
          "text": [
            "tensor([[12., 12.],\n",
            "        [13., 13.]], grad_fn=<AddBackward0>)\n",
            "tensor([[12., 12.],\n",
            "        [13., 13.]], grad_fn=<AddBackward0>)\n"
          ]
        },
        {
          "output_type": "execute_result",
          "data": {
            "text/plain": [
              "tensor(7.0711, grad_fn=<CopyBackwards>)"
            ]
          },
          "metadata": {},
          "execution_count": 1
        }
      ],
      "source": [
        "import torch\n",
        "t1 = torch.tensor(4.0)\n",
        "t1.dtype\n",
        "t2 = torch.tensor([[[5,6],[7,8]], [[9,10],[11,12]]])\n",
        "t2.shape\n",
        "t2.dtype\n",
        "x = torch.tensor(3.0)\n",
        "w= torch.tensor(4.0, requires_grad=True)\n",
        "b= torch.tensor(5.0, requires_grad=True)\n",
        "y=x*w+b\n",
        "y.backward()\n",
        "#print(x.grad)\n",
        "#print(w.grad)\n",
        "import numpy as np\n",
        "x = np.array([[1,2,0],[3,4,0]])\n",
        "# convert numpy array to tensor\n",
        "y = torch.from_numpy(x)\n",
        "y\n",
        "x.dtype, y.dtype\n",
        "# or we can directly do torch.tensor\n",
        "y = torch.tensor(x)\n",
        "# to convert tensor into numpy\n",
        "x= y.numpy()\n",
        "x\n",
        "y1 = torch.numel(y)\n",
        "y1\n",
        "t3= torch.ones(1,4)\n",
        "t3\n",
        "t4 = torch.ones_like(t2)\n",
        "t4\n",
        "t5 = torch.arange(1,7,2)\n",
        "t5\n",
        "t7 = torch.eye(3,3)\n",
        "t7\n",
        "t8 = torch.empty(2,3)\n",
        "t8\n",
        "t9 = torch.full((4,4),42)\n",
        "t9\n",
        "\n",
        "x = torch.tensor([[3.0, 4.0],[3.0, 4.0]],requires_grad=True)\n",
        "w= torch.ones(2,2, requires_grad=True)\n",
        "b= torch.tensor([[5.0,5.0],[6.0,6.0]], requires_grad=True)\n",
        "y=torch.mm(x,w)+b\n",
        "y1=x@w+b\n",
        "print(y)\n",
        "print(y1)\n",
        "\n",
        "y.sum().backward()\n",
        "#print(w.grad)\n",
        "#print(x.grad)\n",
        "u = torch.norm(x)\n",
        "u\n",
        "\n",
        "\n",
        "\n",
        "\n",
        "\n",
        "\n",
        "\n",
        "\n",
        "\n",
        "\n"
      ]
    }
  ]
}