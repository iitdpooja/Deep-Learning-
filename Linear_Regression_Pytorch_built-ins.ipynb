{
  "nbformat": 4,
  "nbformat_minor": 0,
  "metadata": {
    "colab": {
      "name": "Untitled2.ipynb",
      "provenance": [],
      "collapsed_sections": [],
      "authorship_tag": "ABX9TyOVGdwtVrYLxOtVgFwsS++w",
      "include_colab_link": true
    },
    "kernelspec": {
      "name": "python3",
      "display_name": "Python 3"
    },
    "language_info": {
      "name": "python"
    }
  },
  "cells": [
    {
      "cell_type": "markdown",
      "metadata": {
        "id": "view-in-github",
        "colab_type": "text"
      },
      "source": [
        "<a href=\"https://colab.research.google.com/github/iitdpooja/Deep-Learning-/blob/main/Linear_Regression_Pytorch_built-ins.ipynb\" target=\"_parent\"><img src=\"https://colab.research.google.com/assets/colab-badge.svg\" alt=\"Open In Colab\"/></a>"
      ]
    },
    {
      "cell_type": "code",
      "execution_count": 14,
      "metadata": {
        "id": "RNWeWtyKr3-s"
      },
      "outputs": [],
      "source": [
        "import numpy as np\n",
        "import torch\n",
        "import torch.nn as nn\n",
        "from torch.utils.data import TensorDataset \n",
        "from torch.utils.data import DataLoader\n",
        "import torch.nn.functional as F"
      ]
    },
    {
      "cell_type": "code",
      "execution_count": 17,
      "metadata": {
        "colab": {
          "base_uri": "https://localhost:8080/"
        },
        "id": "NL6ID2ppd0bD",
        "outputId": "1b345767-ec74-4a09-a31f-c61a9479baeb"
      },
      "outputs": [
        {
          "output_type": "stream",
          "name": "stdout",
          "text": [
            "tensor(13488.2285, grad_fn=<MseLossBackward0>)\n",
            "Epoch [10/100], Loss: 486.4857\n",
            "Epoch [20/100], Loss: 347.3772\n",
            "Epoch [30/100], Loss: 252.1231\n",
            "Epoch [40/100], Loss: 107.2353\n",
            "Epoch [50/100], Loss: 116.6545\n",
            "Epoch [60/100], Loss: 65.0747\n",
            "Epoch [70/100], Loss: 59.5464\n",
            "Epoch [80/100], Loss: 31.8484\n",
            "Epoch [90/100], Loss: 18.7560\n",
            "Epoch [100/100], Loss: 15.7861\n"
          ]
        }
      ],
      "source": [
        "inputs = np.array([[73, 67, 43], \n",
        "                   [91, 88, 64], \n",
        "                   [87, 134, 58], \n",
        "                   [102, 43, 37], \n",
        "                   [69, 96, 70], \n",
        "                   [74, 66, 43], \n",
        "                   [91, 87, 65], \n",
        "                   [88, 134, 59], \n",
        "                   [101, 44, 37], \n",
        "                   [68, 96, 71], \n",
        "                   [73, 66, 44], \n",
        "                   [92, 87, 64], \n",
        "                   [87, 135, 57], \n",
        "                   [103, 43, 36], \n",
        "                   [68, 97, 70]], \n",
        "                  dtype='float32')\n",
        "targets = np.array([[56, 70], \n",
        "                    [81, 101], \n",
        "                    [119, 133], \n",
        "                    [22, 37], \n",
        "                    [103, 119],\n",
        "                    [57, 69], \n",
        "                    [80, 102], \n",
        "                    [118, 132], \n",
        "                    [21, 38], \n",
        "                    [104, 118], \n",
        "                    [57, 69], \n",
        "                    [82, 100], \n",
        "                    [118, 134], \n",
        "                    [20, 38], \n",
        "                    [102, 120]], \n",
        "                   dtype='float32')\n",
        "\n",
        "inputs = torch.from_numpy(inputs)\n",
        "targets= torch.from_numpy(targets)\n",
        "#--------------------------------------------------------------------------------------------------------------------------------------\n",
        "# using Dataset\n",
        "#TensorDataset allows us to access a small section of the training data using the array indexing notation ([0:3] in the above code).\n",
        "#It returns a tuple with two elements. The first element contains the input variables for the selected rows, and the second contains the targets.\n",
        "train_ds = TensorDataset(inputs,targets) \n",
        "train_ds[0:3]\n",
        "#------------------------------------------------------------------------------------------------------------------------------------\n",
        "#using DataLoader\n",
        "#We'll also create a DataLoader, which can split \n",
        "#the data into batches of a predefined size while training. It also provides other utilities like shuffling and random sampling of the data\n",
        "batch_size = 5\n",
        "train_dl = DataLoader(train_ds, batch_size, shuffle=True)\n",
        "#If shuffle is set to True, it shuffles the training data before creating batches. Shuffling helps randomize the input to the optimization algorithm, leading to a faster reduction in the loss.\n",
        "for xb, yb in train_dl:\n",
        "  #print(xb)\n",
        "  #print(yb)\n",
        "  break\n",
        "#-----------------------------------------------------------------------------------------------------------------------------------\n",
        "# Initialize weight and biases automatically using pytorch function nn.Linear\n",
        "model = nn.Linear(3,2)\n",
        "#print(model.weight)\n",
        "#print(model.bias)\n",
        "#print(list(model.parameters()))\n",
        "preds=model(inputs)\n",
        "# Inbuilt Loss Function\n",
        "# define loss function\n",
        "loss_fn = F.mse_loss\n",
        "loss = loss_fn(preds,targets)\n",
        "print(loss)\n",
        "\n",
        "#----------------------------------------------------------------------------------------------------------------------------------------\n",
        "# Loss Optimizer\n",
        "opt = torch.optim.SGD(model.parameters(), lr = 1e-5)\n",
        "#----------------------------------------------------------------------------------------------------------------------------------------\n",
        "# Train the Model using steps generate predictions, calculate loss, compute gradient, optimise, and set gradients to 0\n",
        "def fit(num_epochs, model, loss_fn, opt, train_dl):\n",
        "  for epoch in range(num_epochs):\n",
        "    for xb,yb in train_dl:\n",
        "      preds = model(xb) # 1. Generate predictions\n",
        "      loss= loss_fn(preds, yb) # 2. Calculate loss\n",
        "      loss.backward() # 3. Compute gradients\n",
        "      opt.step()  # 4. Update parameters using gradients\n",
        "      opt.zero_grad()  # 5. Reset the gradients to zero\n",
        "    # Print the progress\n",
        "    if (epoch+1) % 10 == 0:\n",
        "      print('Epoch [{}/{}], Loss: {:.4f}'.format(epoch+1, num_epochs, loss.item()))\n",
        "\n",
        "fit(100, model, loss_fn,opt,train_dl)"
      ]
    },
    {
      "cell_type": "markdown",
      "source": [
        "**bold text**"
      ],
      "metadata": {
        "id": "cmCaGRbisjqn"
      }
    }
  ]
}