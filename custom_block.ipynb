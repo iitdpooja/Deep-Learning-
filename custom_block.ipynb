{
  "nbformat": 4,
  "nbformat_minor": 0,
  "metadata": {
    "colab": {
      "name": "Untitled0.ipynb",
      "provenance": [],
      "collapsed_sections": [],
      "authorship_tag": "ABX9TyMieVjZvo33o7cg3SFbLAGu",
      "include_colab_link": true
    },
    "kernelspec": {
      "name": "python3",
      "display_name": "Python 3"
    },
    "language_info": {
      "name": "python"
    },
    "accelerator": "GPU"
  },
  "cells": [
    {
      "cell_type": "markdown",
      "metadata": {
        "id": "view-in-github",
        "colab_type": "text"
      },
      "source": [
        "<a href=\"https://colab.research.google.com/github/iitdpooja/Deep-Learning-/blob/main/custom_block.ipynb\" target=\"_parent\"><img src=\"https://colab.research.google.com/assets/colab-badge.svg\" alt=\"Open In Colab\"/></a>"
      ]
    },
    {
      "cell_type": "code",
      "metadata": {
        "id": "5aUk1SilUWEB"
      },
      "source": [
        "pip install -U d2l"
      ],
      "execution_count": null,
      "outputs": []
    },
    {
      "cell_type": "code",
      "metadata": {
        "id": "1rOESYr0UXmg"
      },
      "source": [
        "pip install mxnet"
      ],
      "execution_count": null,
      "outputs": []
    },
    {
      "cell_type": "code",
      "metadata": {
        "id": "UFuKsUkUUYUX",
        "colab": {
          "base_uri": "https://localhost:8080/"
        },
        "outputId": "41f4195e-904a-4504-a213-f145d36fc477"
      },
      "source": [
        "from mxnet import np, npx\n",
        "from mxnet.gluon import nn\n",
        "\n",
        "npx.set_np()\n",
        "net = nn.Sequential()\n",
        "net.add(nn.Dense(256, activation='relu'))\n",
        "net.add(nn.Dense(10))\n",
        "net.initialize()\n",
        "X = np.random.uniform(size=(2, 20))\n",
        "net(X)\n",
        "\n",
        "class MLP(nn.Block):\n",
        "# Declare a layer with model parameters. Here, we declare two\n",
        "# fully-connected layers\n",
        "  def __init__(self, **kwargs):\n",
        "  # Call the constructor of the `MLP` parent class `Block` to perform\n",
        "  # the necessary initialization. In this way, other function arguments\n",
        "  # can also be specified during class instantiation, such as the model\n",
        "  # parameters, `params` (to be described later)\n",
        "    super().__init__(**kwargs)\n",
        "    self.hidden = nn.Dense(256, activation='relu') # Hidden layer\n",
        "    self.out = nn.Dense(10) # Output layer\n",
        "  # Define the forward propagation of the model, that is, how to return the\n",
        "  # required model output based on the input `X`\n",
        "  def forward(self, X):\n",
        "    return self.out(self.hidden(X))\n",
        "\n",
        "net = MLP()\n",
        "net.initialize()\n",
        "net(X)\n",
        "\n",
        "\n",
        "\n"
      ],
      "execution_count": 6,
      "outputs": [
        {
          "output_type": "execute_result",
          "data": {
            "text/plain": [
              "array([[-0.00037217,  0.07158215, -0.08605044, -0.01867504,  0.02887943,\n",
              "         0.03574836, -0.03529868, -0.00584432, -0.06832281, -0.03960221],\n",
              "       [ 0.00517611,  0.04808049, -0.06119341, -0.05508533,  0.02524437,\n",
              "         0.02825176, -0.02400248, -0.00299849, -0.03465458, -0.05417615]])"
            ]
          },
          "metadata": {},
          "execution_count": 6
        }
      ]
    }
  ]
}